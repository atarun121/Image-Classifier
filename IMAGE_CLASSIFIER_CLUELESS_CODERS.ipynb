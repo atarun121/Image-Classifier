{
  "nbformat": 4,
  "nbformat_minor": 0,
  "metadata": {
    "colab": {
      "provenance": [],
      "authorship_tag": "ABX9TyMpyraNyciS86FvgKcF0rrO",
      "include_colab_link": true
    },
    "kernelspec": {
      "name": "python3",
      "display_name": "Python 3"
    },
    "language_info": {
      "name": "python"
    }
  },
  "cells": [
    {
      "cell_type": "markdown",
      "metadata": {
        "id": "view-in-github",
        "colab_type": "text"
      },
      "source": [
        "<a href=\"https://colab.research.google.com/github/atarun121/Image-Classifier/blob/main/IMAGE_CLASSIFIER_CLUELESS_CODERS.ipynb\" target=\"_parent\"><img src=\"https://colab.research.google.com/assets/colab-badge.svg\" alt=\"Open In Colab\"/></a>"
      ]
    },
    {
      "cell_type": "code",
      "source": [
        "#importing important modules\n",
        "import numpy as np\n",
        "import matplotlib.pyplot as plt\n",
        "import matplotlib.image as mpimg\n",
        "import os\n",
        "import random\n",
        "import zipfile\n",
        "import tensorflow as tf\n",
        "\n",
        "from google.colab import files\n",
        "from shutil import  copyfile\n",
        "from keras.preprocessing import image\n",
        "from tensorflow.keras.optimizers import RMSprop\n",
        "from tensorflow.keras.preprocessing.image import ImageDataGenerator"
      ],
      "metadata": {
        "id": "Ey3-TDOCzuIh"
      },
      "execution_count": 5,
      "outputs": []
    },
    {
      "cell_type": "code",
      "source": [
        "from zipfile import ZipFile\n",
        "\n",
        "data_path = 'https://github.com/atarun121/Image-Classifier/blob/main/kagglecatsanddogs_5340.zip'\n",
        "\n",
        "with ZipFile(data_path, 'r') as zip:\n",
        "    zip.extractall()\n",
        "    print('The data set has been extracted.')"
      ],
      "metadata": {
        "colab": {
          "base_uri": "https://localhost:8080/",
          "height": 366
        },
        "id": "gGnTVkKHMa_3",
        "outputId": "bae34814-41e0-4758-a3a4-f36a8b51bf18"
      },
      "execution_count": 4,
      "outputs": [
        {
          "output_type": "error",
          "ename": "FileNotFoundError",
          "evalue": "ignored",
          "traceback": [
            "\u001b[0;31m---------------------------------------------------------------------------\u001b[0m",
            "\u001b[0;31mFileNotFoundError\u001b[0m                         Traceback (most recent call last)",
            "\u001b[0;32m<ipython-input-4-5e87c777e34f>\u001b[0m in \u001b[0;36m<cell line: 5>\u001b[0;34m()\u001b[0m\n\u001b[1;32m      3\u001b[0m \u001b[0mdata_path\u001b[0m \u001b[0;34m=\u001b[0m \u001b[0;34m'https://github.com/atarun121/Image-Classifier/blob/main/kagglecatsanddogs_5340.zip'\u001b[0m\u001b[0;34m\u001b[0m\u001b[0;34m\u001b[0m\u001b[0m\n\u001b[1;32m      4\u001b[0m \u001b[0;34m\u001b[0m\u001b[0m\n\u001b[0;32m----> 5\u001b[0;31m \u001b[0;32mwith\u001b[0m \u001b[0mZipFile\u001b[0m\u001b[0;34m(\u001b[0m\u001b[0mdata_path\u001b[0m\u001b[0;34m,\u001b[0m \u001b[0;34m'r'\u001b[0m\u001b[0;34m)\u001b[0m \u001b[0;32mas\u001b[0m \u001b[0mzip\u001b[0m\u001b[0;34m:\u001b[0m\u001b[0;34m\u001b[0m\u001b[0;34m\u001b[0m\u001b[0m\n\u001b[0m\u001b[1;32m      6\u001b[0m     \u001b[0mzip\u001b[0m\u001b[0;34m.\u001b[0m\u001b[0mextractall\u001b[0m\u001b[0;34m(\u001b[0m\u001b[0;34m)\u001b[0m\u001b[0;34m\u001b[0m\u001b[0;34m\u001b[0m\u001b[0m\n\u001b[1;32m      7\u001b[0m     \u001b[0mprint\u001b[0m\u001b[0;34m(\u001b[0m\u001b[0;34m'The data set has been extracted.'\u001b[0m\u001b[0;34m)\u001b[0m\u001b[0;34m\u001b[0m\u001b[0;34m\u001b[0m\u001b[0m\n",
            "\u001b[0;32m/usr/lib/python3.10/zipfile.py\u001b[0m in \u001b[0;36m__init__\u001b[0;34m(self, file, mode, compression, allowZip64, compresslevel, strict_timestamps)\u001b[0m\n\u001b[1;32m   1249\u001b[0m             \u001b[0;32mwhile\u001b[0m \u001b[0;32mTrue\u001b[0m\u001b[0;34m:\u001b[0m\u001b[0;34m\u001b[0m\u001b[0;34m\u001b[0m\u001b[0m\n\u001b[1;32m   1250\u001b[0m                 \u001b[0;32mtry\u001b[0m\u001b[0;34m:\u001b[0m\u001b[0;34m\u001b[0m\u001b[0;34m\u001b[0m\u001b[0m\n\u001b[0;32m-> 1251\u001b[0;31m                     \u001b[0mself\u001b[0m\u001b[0;34m.\u001b[0m\u001b[0mfp\u001b[0m \u001b[0;34m=\u001b[0m \u001b[0mio\u001b[0m\u001b[0;34m.\u001b[0m\u001b[0mopen\u001b[0m\u001b[0;34m(\u001b[0m\u001b[0mfile\u001b[0m\u001b[0;34m,\u001b[0m \u001b[0mfilemode\u001b[0m\u001b[0;34m)\u001b[0m\u001b[0;34m\u001b[0m\u001b[0;34m\u001b[0m\u001b[0m\n\u001b[0m\u001b[1;32m   1252\u001b[0m                 \u001b[0;32mexcept\u001b[0m \u001b[0mOSError\u001b[0m\u001b[0;34m:\u001b[0m\u001b[0;34m\u001b[0m\u001b[0;34m\u001b[0m\u001b[0m\n\u001b[1;32m   1253\u001b[0m                     \u001b[0;32mif\u001b[0m \u001b[0mfilemode\u001b[0m \u001b[0;32min\u001b[0m \u001b[0mmodeDict\u001b[0m\u001b[0;34m:\u001b[0m\u001b[0;34m\u001b[0m\u001b[0;34m\u001b[0m\u001b[0m\n",
            "\u001b[0;31mFileNotFoundError\u001b[0m: [Errno 2] No such file or directory: 'https://github.com/atarun121/Image-Classifier/blob/main/kagglecatsanddogs_5340.zip'"
          ]
        }
      ]
    },
    {
      "cell_type": "code",
      "source": [
        "path = '/content/drive/My Drive/kagglecatsanddogs_5340/PetImages'\n",
        "classes = os.listdir(path)\n",
        "classes\n"
      ],
      "metadata": {
        "id": "c5uSXQK2IVGE"
      },
      "execution_count": null,
      "outputs": []
    },
    {
      "cell_type": "code",
      "source": [
        "# Finding the total number of Cats and Dogs images in the directory.\n",
        "# Total number of Cats.\n",
        "print(f\"Total number of Cats is {len(os.listdir('/tmp/PetImages/Cat/'))}\")\n",
        "# Total number of Dogs.\n",
        "print(f\"Total number of Dogs is {len(os.listdir('/tmp/PetImages/Dog/'))}\")"
      ],
      "metadata": {
        "id": "tJkdi7qzKO8_"
      },
      "execution_count": null,
      "outputs": []
    },
    {
      "cell_type": "code",
      "source": [
        "# Using os.mkdir to create new directories\n",
        "# Creating new directories for training and validation\n",
        "try:\n",
        "  os.mkdir(\"/tmp/kagglecatsanddogs_5340\")\n",
        "  os.mkdir(\"/tmp/kagglecatsanddogs_5340/training\")\n",
        "  os.mkdir(\"/tmp/kagglecatsanddogs_5340/validation\")\n",
        "  os.mkdir(\"/tmp/kagglecatsanddogs_5340/training/Cats\")\n",
        "  os.mkdir(\"/tmp/kagglecatsanddogs_5340/training/Dogs\")\n",
        "  os.mkdir(\"/tmp/kagglecatsanddogs_5340/validation/Cats\")\n",
        "  os.mkdir(\"/tmp/kagglecatsanddogs_5340/validation/Dogs\")\n",
        "except OSError:\n",
        "  pass"
      ],
      "metadata": {
        "id": "ilUAszdNIfGq"
      },
      "execution_count": null,
      "outputs": []
    },
    {
      "cell_type": "code",
      "source": [
        "import shutil\n",
        "def split_data(SOURCE, TRAINING, VALIDATION, SPLIT_SIZE):\n",
        "  files = []\n",
        "  for filename in os.listdir(SOURCE):\n",
        "    file = SOURCE + filename\n",
        "    if os.path.getsize(file) > 0:\n",
        "      files.append(filename)\n",
        "    else:\n",
        "      print(filename, \"is zero length, so ignoring!\")\n",
        "\n",
        "  training_length = int(len(files) * SPLIT_SIZE)\n",
        "  validation_length = int(len(files) - training_length)\n",
        "  shuffled_set = random.sample(files, len(files))\n",
        "  training_set = shuffled_set[0:training_length]\n",
        "  validation_set = shuffled_set[0:validation_length]\n",
        "\n",
        "  for filename in training_set:\n",
        "    this_file = SOURCE + filename\n",
        "    destination = TRAINING + filename\n",
        "    shutil.copyfile(this_file, destination)\n",
        "\n",
        "  for filename in validation_set:\n",
        "    this_file = SOURCE + filename\n",
        "    destination = VALIDATION + filename\n",
        "    shutil.copyfile(this_file, destination)\n",
        "\n",
        "\n",
        "CAT_SOURCE_DIR = \"/tmp/PetImages/Cat/\"\n",
        "TRAINING_CAT_DIR = \"/tmp/kagglecatsanddogs_5340/training/Cats/\"\n",
        "VALIDATION_CAT_DIR = \"/tmp/kagglecatsanddogs_5340/validation/Cats/\"\n",
        "\n",
        "DOG_SOURCE_DIR = \"/tmp/PetImages/Dog/\"\n",
        "TRAINING_DOG_DIR = \"/tmp/kagglecatsanddogs_5340/training/Dogs/\"\n",
        "VALIDATION_DOG_DIR = \"/tmp/kagglecatsanddogs_5340/validation/Dogs/\"\n",
        "\n",
        "SPLIT_SIZE = 0.9\n",
        "\n",
        "split_data(CAT_SOURCE_DIR, TRAINING_CAT_DIR, VALIDATION_CAT_DIR, SPLIT_SIZE)\n",
        "split_data(DOG_SOURCE_DIR, TRAINING_DOG_DIR, VALIDATION_DOG_DIR, SPLIT_SIZE)"
      ],
      "metadata": {
        "id": "BqYrMsPSKpj7"
      },
      "execution_count": null,
      "outputs": []
    },
    {
      "cell_type": "code",
      "source": [
        "# Total number of images in Training\n",
        "print(f\"Total number of training Cats is {len(os.listdir('/tmp/kagglecatsanddogs_5340/training/Cats/'))}\")\n",
        "print(f\"Total number of training Dogs is {len(os.listdir('/tmp/kagglecatsanddogs_5340/training/Dogs/'))}\")\n",
        "\n",
        "# Total number of images in Validation\n",
        "print(f\"Total number of validation Cats is {len(os.listdir('/tmp/kagglecatsanddogs_5340/validation/Cats/'))}\")\n",
        "print(f\"Total number of validation Dogs is {len(os.listdir('/tmp/kagglecatsanddogs_5340/validation/Dogs/'))}\")"
      ],
      "metadata": {
        "id": "qz7K-2GmcvGT"
      },
      "execution_count": null,
      "outputs": []
    },
    {
      "cell_type": "code",
      "source": [
        "# Directory with training cats images\n",
        "train_cats_dir = os.path.join(\"/tmp/kagglecatsanddogs_5340/training/Cats\")\n",
        "\n",
        "# Directory with the kagglecatsanddogs_5340 images.\n",
        "train_dogs_dir = os.path.join(\"/tmp/kagglecatsanddogs_5340/training/Dogs\")\n",
        "\n",
        "# Directory with validation cats images\n",
        "validation_cats_dir = os.path.join(\"/tmp/kagglecatsanddogs_5340/validation/Cats\")\n",
        "\n",
        "# Directory with valkagglecatsanddogs_5340 images\n",
        "validation_dogs_dir = os.path.join(\"/tmp/kagglecatsanddogs_5340/validation/Dogs\")"
      ],
      "metadata": {
        "id": "h33CcJYbc4Tb"
      },
      "execution_count": null,
      "outputs": []
    },
    {
      "cell_type": "code",
      "source": [
        "# Training Cat directory\n",
        "train_cat_names = os.listdir(train_cats_dir)\n",
        "print(train_cat_names[:10])\n",
        "\n",
        "# Training Dog directory\n",
        "train_dog_names = os.listdir(train_dogs_dir)\n",
        "print(train_dog_names[:10])\n",
        "\n",
        "# Validation Cat directory\n",
        "validation_cat_names = os.listdir(validation_cats_dir)\n",
        "print(validation_cat_names[:10])\n",
        "\n",
        "# Validation Dog directory\n",
        "validation_dog_names = os.listdir(validation_dogs_dir)\n",
        "print(validation_dog_names[:10])\n"
      ],
      "metadata": {
        "id": "Kh-cCg0ZdJVZ"
      },
      "execution_count": null,
      "outputs": []
    },
    {
      "cell_type": "code",
      "source": [
        "# Parameters for our graph\n",
        "nrows = 4\n",
        "ncols = 4\n",
        "\n",
        "# Index for iterating over images\n",
        "pic_index = 0\n",
        "\n",
        "# Setup matplotlib figure\n",
        "fig = plt.gcf()\n",
        "fig.set_size_inches(ncols*4, nrows*4)\n",
        "\n",
        "pic_index += 8\n",
        "next_cat_px = [os.path.join(train_cats_dir, fname) for fname in train_cat_names[pic_index-8:pic_index]]\n",
        "next_dog_px = [os.path.join(train_dogs_dir, fname) for fname in train_dog_names[pic_index-8:pic_index]]\n",
        "\n",
        "for i, img_path in enumerate(next_cat_px + next_dog_px):\n",
        "  # Set subplots\n",
        "  sp = plt.subplot(nrows, ncols, i+1)\n",
        "  sp.axis(\"Off\")\n",
        "\n",
        "  img = mpimg.imread(img_path)\n",
        "  plt.imshow(img)\n",
        "\n",
        "plt.show()"
      ],
      "metadata": {
        "id": "2sYVPzfFdPVi"
      },
      "execution_count": null,
      "outputs": []
    },
    {
      "cell_type": "code",
      "source": [
        "# Building Convolutional Neural Network from scratch\n",
        "model = tf.keras.models.Sequential([\n",
        "                                    # The first convolution\n",
        "                                    # Input image has 3 bytes color\n",
        "                                    tf.keras.layers.Conv2D(16, (3, 3), activation=\"relu\", input_shape=(300, 300, 3)),\n",
        "                                    tf.keras.layers.MaxPooling2D(2, 2),\n",
        "                                    # The second convolution\n",
        "                                    tf.keras.layers.Conv2D(32, (3, 3), activation=\"relu\"),\n",
        "                                    tf.keras.layers.MaxPooling2D(2, 2),\n",
        "                                    # The third convolution\n",
        "                                    tf.keras.layers.Conv2D(64, (3, 3), activation=\"relu\"),\n",
        "                                    tf.keras.layers.MaxPooling2D(2, 2),\n",
        "                                    # The fourth convolution\n",
        "                                    tf.keras.layers.Conv2D(64, (3, 3), activation=\"relu\"),\n",
        "                                    tf.keras.layers.MaxPooling2D(2, 2),\n",
        "                                    # The fifth convolution\n",
        "                                    tf.keras.layers.Conv2D(128, (3, 3), activation=\"relu\"),\n",
        "                                    tf.keras.layers.MaxPooling2D(2, 2),\n",
        "                                    # The sixth convolution\n",
        "                                    tf.keras.layers.Conv2D(128, (3, 3), activation=\"relu\"),\n",
        "                                    tf.keras.layers.MaxPooling2D(2, 2),\n",
        "                                    # Flatten the results to feed in Deep Neural Network\n",
        "                                    tf.keras.layers.Flatten(),\n",
        "                                    tf.keras.layers.Dense(512, activation=\"relu\"),\n",
        "                                    tf.keras.layers.Dense(1, activation=\"sigmoid\")\n",
        "])"
      ],
      "metadata": {
        "id": "nmWxaj55dcE0"
      },
      "execution_count": null,
      "outputs": []
    },
    {
      "cell_type": "code",
      "source": [
        "# Summary of Neural Network\n",
        "model.summary()"
      ],
      "metadata": {
        "id": "P8S_8kxhdfaz"
      },
      "execution_count": null,
      "outputs": []
    },
    {
      "cell_type": "code",
      "source": [
        "# Compile the Model\n",
        "from tensorflow.keras.optimizers import RMSprop\n",
        "\n",
        "model.compile(loss=\"binary_crossentropy\",\n",
        "              optimizer=RMSprop(learning_rate=0.001),\n",
        "              metrics=[\"accuracy\"])"
      ],
      "metadata": {
        "id": "dUIbTwofdi5M"
      },
      "execution_count": null,
      "outputs": []
    },
    {
      "cell_type": "code",
      "source": [
        "# Normalizing all the images\n",
        "# All images are rescaled by 1./255\n",
        "train_datagen = ImageDataGenerator(rescale=1./255,\n",
        "                                   rotation_range=40,\n",
        "                                   width_shift_range=0.2,\n",
        "                                   height_shift_range=0.2,\n",
        "                                   shear_range=0.2,\n",
        "                                   zoom_range=0.2,\n",
        "                                   horizontal_flip=True,\n",
        "                                   fill_mode=\"nearest\")\n",
        "\n",
        "validation_datagen = ImageDataGenerator(rescale=1./255)\n",
        "\n",
        "# Flow training images in batches of 128 using train_datagen generator\n",
        "train_generator = train_datagen.flow_from_directory(\n",
        "    \"/tmp/kagglecatsanddogs_5340/training\",\n",
        "    target_size=(300, 300),\n",
        "    batch_size=64,\n",
        "    class_mode=\"binary\"\n",
        ")\n",
        "\n",
        "# Flow validation images in batches of 32 using validation_datagen generator\n",
        "validation_generator = validation_datagen.flow_from_directory(\n",
        "    \"/tmp/kagglecatsanddogs_5340/validation\",\n",
        "    target_size=(300, 300),\n",
        "    batch_size=32,\n",
        "    class_mode=\"binary\"\n",
        ")\n"
      ],
      "metadata": {
        "id": "mwVi3v3ZeKG0"
      },
      "execution_count": null,
      "outputs": []
    },
    {
      "cell_type": "code",
      "source": [
        "# Training the Model\n",
        "history = model.fit(\n",
        "    train_generator,\n",
        "    steps_per_epoch=8,\n",
        "    epochs=50,\n",
        "    verbose=1,\n",
        "    validation_data=validation_generator,\n",
        "    validation_steps=8\n",
        ")"
      ],
      "metadata": {
        "id": "6AcIX7mEeVWB"
      },
      "execution_count": null,
      "outputs": []
    },
    {
      "cell_type": "code",
      "source": [
        "# Plotting loss vs accuracy\n",
        "acc = history.history[\"accuracy\"]\n",
        "val_acc = history.history[\"val_accuracy\"]\n",
        "loss = history.history[\"loss\"]\n",
        "val_loss = history.history[\"val_loss\"]\n",
        "\n",
        "epochs = range(len(acc))\n",
        "\n",
        "plt.plot(epochs, acc, \"r\", label=\"Training accuracy\")\n",
        "plt.plot(epochs, val_acc, \"b\", label=\"Validation accuracy\")\n",
        "plt.title(\"Training and Validation accuracy\")\n",
        "\n",
        "plt.figure()\n",
        "\n",
        "plt.plot(epochs, loss, \"r\", label=\"Training loss\")\n",
        "plt.plot(epochs, val_loss, \"b\", label=\"Validation loss\")\n",
        "plt.title(\"Training and Validation loss\")\n",
        "\n",
        "plt.legend()\n",
        "plt.show()"
      ],
      "metadata": {
        "id": "ZTYJyXFUhpXj"
      },
      "execution_count": null,
      "outputs": []
    },
    {
      "cell_type": "code",
      "source": [
        "# Model in production\n",
        "# Using google colab file system\n",
        "uploaded = files.upload()\n",
        "\n",
        "for fn in uploaded.keys():\n",
        "  # Predicting Images\n",
        "  path = \"/content/\" + fn\n",
        "  img = image.load_img(path, target_size=(300, 300))\n",
        "  x = image.img_to_array(img)\n",
        "  x = np.expand_dims(x, axis=0)\n",
        "\n",
        "  images = np.vstack([x])\n",
        "  classes = model.predict(images, batch_size=10)\n",
        "  print(classes[0])\n",
        "  if classes[0] > 0.5:\n",
        "    print(fn, \"is a Dog\")\n",
        "  else:\n",
        "    print(fn, \"is a Cat\")"
      ],
      "metadata": {
        "id": "6OYLtPJYhr6c"
      },
      "execution_count": null,
      "outputs": []
    }
  ]
}